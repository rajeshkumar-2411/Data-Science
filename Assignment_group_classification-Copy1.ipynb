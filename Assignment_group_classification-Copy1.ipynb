{
 "cells": [
  {
   "cell_type": "code",
   "execution_count": 1,
   "metadata": {},
   "outputs": [],
   "source": [
    "import pandas as pd\n",
    "import numpy as np\n",
    "from matplotlib import pyplot as plt\n",
    "from matplotlib import style as st\n",
    "import nltk\n",
    "import re"
   ]
  },
  {
   "cell_type": "code",
   "execution_count": 2,
   "metadata": {},
   "outputs": [],
   "source": [
    "df = pd.read_csv(r\"C:\\Users\\kumrajes7\\Desktop\\python\\incident _dataset.csv\", encoding='latin-1')"
   ]
  },
  {
   "cell_type": "code",
   "execution_count": 3,
   "metadata": {
    "scrolled": false
   },
   "outputs": [
    {
     "data": {
      "text/html": [
       "<div>\n",
       "<style scoped>\n",
       "    .dataframe tbody tr th:only-of-type {\n",
       "        vertical-align: middle;\n",
       "    }\n",
       "\n",
       "    .dataframe tbody tr th {\n",
       "        vertical-align: top;\n",
       "    }\n",
       "\n",
       "    .dataframe thead th {\n",
       "        text-align: right;\n",
       "    }\n",
       "</style>\n",
       "<table border=\"1\" class=\"dataframe\">\n",
       "  <thead>\n",
       "    <tr style=\"text-align: right;\">\n",
       "      <th></th>\n",
       "      <th>Assignment group</th>\n",
       "      <th>Location</th>\n",
       "      <th>Short description</th>\n",
       "      <th>Description</th>\n",
       "    </tr>\n",
       "  </thead>\n",
       "  <tbody>\n",
       "    <tr>\n",
       "      <th>0</th>\n",
       "      <td>Accounts Payable - NA</td>\n",
       "      <td>Tulsa</td>\n",
       "      <td>Accounts Payable Urgent Inquiries - Accounts P...</td>\n",
       "      <td>I am receiving multiple inquiries from vendors...</td>\n",
       "    </tr>\n",
       "    <tr>\n",
       "      <th>1</th>\n",
       "      <td>AFG APP Support</td>\n",
       "      <td>Reliable Tech Park-Mumbai</td>\n",
       "      <td>NICE IEX WFM tool unable to launch</td>\n",
       "      <td>Dear team,\\n\\nNeed your assistance in NICE IEX...</td>\n",
       "    </tr>\n",
       "    <tr>\n",
       "      <th>2</th>\n",
       "      <td>Application Management</td>\n",
       "      <td>Jefferson Rd-Rochester</td>\n",
       "      <td>Create new test database</td>\n",
       "      <td>Hi Laurie,\\n\\nPlease can you copy DB (webInfoS...</td>\n",
       "    </tr>\n",
       "    <tr>\n",
       "      <th>3</th>\n",
       "      <td>Application Management</td>\n",
       "      <td>Airoli-Mumbai</td>\n",
       "      <td>Please apply the patch in live database</td>\n",
       "      <td>Hi Team,\\n\\nKindly apply the patch in RPQR aga...</td>\n",
       "    </tr>\n",
       "    <tr>\n",
       "      <th>4</th>\n",
       "      <td>Application Management</td>\n",
       "      <td>Sahara Avenue-Las Vegas</td>\n",
       "      <td>SharePoint website down</td>\n",
       "      <td>Team the below SharePoint is not loading acros...</td>\n",
       "    </tr>\n",
       "  </tbody>\n",
       "</table>\n",
       "</div>"
      ],
      "text/plain": [
       "         Assignment group                   Location  \\\n",
       "0   Accounts Payable - NA                      Tulsa   \n",
       "1         AFG APP Support  Reliable Tech Park-Mumbai   \n",
       "2  Application Management     Jefferson Rd-Rochester   \n",
       "3  Application Management              Airoli-Mumbai   \n",
       "4  Application Management    Sahara Avenue-Las Vegas   \n",
       "\n",
       "                                   Short description  \\\n",
       "0  Accounts Payable Urgent Inquiries - Accounts P...   \n",
       "1                 NICE IEX WFM tool unable to launch   \n",
       "2                           Create new test database   \n",
       "3            Please apply the patch in live database   \n",
       "4                            SharePoint website down   \n",
       "\n",
       "                                         Description  \n",
       "0  I am receiving multiple inquiries from vendors...  \n",
       "1  Dear team,\\n\\nNeed your assistance in NICE IEX...  \n",
       "2  Hi Laurie,\\n\\nPlease can you copy DB (webInfoS...  \n",
       "3  Hi Team,\\n\\nKindly apply the patch in RPQR aga...  \n",
       "4  Team the below SharePoint is not loading acros...  "
      ]
     },
     "execution_count": 3,
     "metadata": {},
     "output_type": "execute_result"
    }
   ],
   "source": [
    "df.head()"
   ]
  },
  {
   "cell_type": "code",
   "execution_count": 4,
   "metadata": {},
   "outputs": [
    {
     "data": {
      "text/plain": [
       "Index(['Assignment group', 'Location', 'Short description', 'Description'], dtype='object')"
      ]
     },
     "execution_count": 4,
     "metadata": {},
     "output_type": "execute_result"
    }
   ],
   "source": [
    "df.columns"
   ]
  },
  {
   "cell_type": "code",
   "execution_count": 5,
   "metadata": {},
   "outputs": [
    {
     "data": {
      "text/html": [
       "<div>\n",
       "<style scoped>\n",
       "    .dataframe tbody tr th:only-of-type {\n",
       "        vertical-align: middle;\n",
       "    }\n",
       "\n",
       "    .dataframe tbody tr th {\n",
       "        vertical-align: top;\n",
       "    }\n",
       "\n",
       "    .dataframe thead th {\n",
       "        text-align: right;\n",
       "    }\n",
       "</style>\n",
       "<table border=\"1\" class=\"dataframe\">\n",
       "  <thead>\n",
       "    <tr style=\"text-align: right;\">\n",
       "      <th></th>\n",
       "      <th>Assignment group</th>\n",
       "      <th>Location</th>\n",
       "      <th>Short description</th>\n",
       "      <th>Description</th>\n",
       "    </tr>\n",
       "  </thead>\n",
       "  <tbody>\n",
       "    <tr>\n",
       "      <th>340323</th>\n",
       "      <td>Work At Home</td>\n",
       "      <td>CloudSource - USA</td>\n",
       "      <td>Yubi Key isnt detected.</td>\n",
       "      <td>Yubi Key isnt detected.\\n</td>\n",
       "    </tr>\n",
       "    <tr>\n",
       "      <th>340324</th>\n",
       "      <td>Work At Home</td>\n",
       "      <td>CloudSource - USA</td>\n",
       "      <td>Yubi Key isnt detected.</td>\n",
       "      <td>Yubi Key isnt detected.\\n</td>\n",
       "    </tr>\n",
       "    <tr>\n",
       "      <th>340325</th>\n",
       "      <td>Work At Home</td>\n",
       "      <td>CloudSource - USA</td>\n",
       "      <td>Yubi Key isnt detected.</td>\n",
       "      <td>Yubi Key isnt detected.</td>\n",
       "    </tr>\n",
       "    <tr>\n",
       "      <th>340326</th>\n",
       "      <td>Work At Home</td>\n",
       "      <td>CloudSource - USA</td>\n",
       "      <td>yubikey Authentication error</td>\n",
       "      <td>Jay S Oertel called and stated that he is unab...</td>\n",
       "    </tr>\n",
       "    <tr>\n",
       "      <th>340327</th>\n",
       "      <td>Work At Home</td>\n",
       "      <td>CloudSource - USA</td>\n",
       "      <td>Zoom meeting got logged off.</td>\n",
       "      <td>Megan Wallace reporting that she is getting lo...</td>\n",
       "    </tr>\n",
       "  </tbody>\n",
       "</table>\n",
       "</div>"
      ],
      "text/plain": [
       "       Assignment group           Location             Short description  \\\n",
       "340323     Work At Home  CloudSource - USA       Yubi Key isnt detected.   \n",
       "340324     Work At Home  CloudSource - USA       Yubi Key isnt detected.   \n",
       "340325     Work At Home  CloudSource - USA       Yubi Key isnt detected.   \n",
       "340326     Work At Home  CloudSource - USA  yubikey Authentication error   \n",
       "340327     Work At Home  CloudSource - USA  Zoom meeting got logged off.   \n",
       "\n",
       "                                              Description  \n",
       "340323                          Yubi Key isnt detected.\\n  \n",
       "340324                          Yubi Key isnt detected.\\n  \n",
       "340325                            Yubi Key isnt detected.  \n",
       "340326  Jay S Oertel called and stated that he is unab...  \n",
       "340327  Megan Wallace reporting that she is getting lo...  "
      ]
     },
     "execution_count": 5,
     "metadata": {},
     "output_type": "execute_result"
    }
   ],
   "source": [
    "df.tail()"
   ]
  },
  {
   "cell_type": "code",
   "execution_count": 6,
   "metadata": {},
   "outputs": [
    {
     "data": {
      "text/plain": [
       "(340328, 4)"
      ]
     },
     "execution_count": 6,
     "metadata": {},
     "output_type": "execute_result"
    }
   ],
   "source": [
    "df.shape"
   ]
  },
  {
   "cell_type": "code",
   "execution_count": 7,
   "metadata": {},
   "outputs": [
    {
     "data": {
      "text/plain": [
       "Assignment group     False\n",
       "Location              True\n",
       "Short description     True\n",
       "Description           True\n",
       "dtype: bool"
      ]
     },
     "execution_count": 7,
     "metadata": {},
     "output_type": "execute_result"
    }
   ],
   "source": [
    "df.isna().any()"
   ]
  },
  {
   "cell_type": "code",
   "execution_count": 8,
   "metadata": {
    "scrolled": true
   },
   "outputs": [
    {
     "data": {
      "text/plain": [
       "Assignment group       0\n",
       "Location             174\n",
       "Short description     55\n",
       "Description          122\n",
       "dtype: int64"
      ]
     },
     "execution_count": 8,
     "metadata": {},
     "output_type": "execute_result"
    }
   ],
   "source": [
    "df.isna().sum()"
   ]
  },
  {
   "cell_type": "code",
   "execution_count": 9,
   "metadata": {},
   "outputs": [],
   "source": [
    "df['Description'].fillna('Unknown',inplace=True)"
   ]
  },
  {
   "cell_type": "code",
   "execution_count": 10,
   "metadata": {},
   "outputs": [],
   "source": [
    "df.loc[df['Assignment group'].str.contains('IT Operations','Assignment group')]= 'IT Operations'"
   ]
  },
  {
   "cell_type": "code",
   "execution_count": 11,
   "metadata": {},
   "outputs": [],
   "source": [
    "df.loc[df['Assignment group'].str.contains('Sec Mgmt','Assignment group')]= 'Sec Mgmt'\n",
    "df.loc[df['Assignment group'].str.contains('InfoSec','Assignment group')]= 'InfoSec'\n",
    "\n",
    "df.loc[df['Assignment group'].str.contains('Facilities','Assignment group')]= 'Facilities'"
   ]
  },
  {
   "cell_type": "code",
   "execution_count": 12,
   "metadata": {},
   "outputs": [
    {
     "data": {
      "image/png": "[encoded data removed]",
      "text/plain": [
       "<Figure size 720x360 with 1 Axes>"
      ]
     },
     "metadata": {},
     "output_type": "display_data"
    }
   ],
   "source": [
    "st.use('seaborn-darkgrid')\n",
    "plt.figure(figsize=(10,5))\n",
    "plt.title(\"Tickets By Assignment Group\")\n",
    "df['Assignment group'].value_counts().head(20).plot(kind='bar',color='g')\n",
    "plt.show()"
   ]
  },
  {
   "cell_type": "code",
   "execution_count": 13,
   "metadata": {},
   "outputs": [],
   "source": [
    "x = df['Description']"
   ]
  },
  {
   "cell_type": "code",
   "execution_count": 14,
   "metadata": {},
   "outputs": [
    {
     "data": {
      "text/plain": [
       "0"
      ]
     },
     "execution_count": 14,
     "metadata": {},
     "output_type": "execute_result"
    }
   ],
   "source": [
    "x.isna().sum()"
   ]
  },
  {
   "cell_type": "code",
   "execution_count": 15,
   "metadata": {},
   "outputs": [
    {
     "data": {
      "text/plain": [
       "IT Operations               65000\n",
       "ASG Support                 32000\n",
       "Work At Home                32000\n",
       "Server Management Team      32000\n",
       "Global Telecom Team         32000\n",
       "RIM Support                 26134\n",
       "Network Level 1             13476\n",
       "System Management           12109\n",
       "Global Laptop Support       11785\n",
       "Incident Management          8043\n",
       "GSI Jobs Failed APAC         7266\n",
       "Global Recording Team        6524\n",
       "PSG TiTAN                    4257\n",
       "Taleo Super User Support     3911\n",
       "Genesys Support              3872\n",
       "InfoSec                      3017\n",
       "GSI BAM ProHance             3008\n",
       "LMS Admin                    2925\n",
       "PeopleSoft Finance Team      2860\n",
       "IEX Functional Team          2545\n",
       "Name: Assignment group, dtype: int64"
      ]
     },
     "execution_count": 15,
     "metadata": {},
     "output_type": "execute_result"
    }
   ],
   "source": [
    "df['Assignment group'].value_counts().head(20)"
   ]
  },
  {
   "cell_type": "code",
   "execution_count": 16,
   "metadata": {},
   "outputs": [],
   "source": [
    "y= df['Assignment group']"
   ]
  },
  {
   "cell_type": "code",
   "execution_count": 17,
   "metadata": {},
   "outputs": [],
   "source": [
    "from sklearn.feature_extraction.text import TfidfVectorizer"
   ]
  },
  {
   "cell_type": "code",
   "execution_count": 21,
   "metadata": {},
   "outputs": [],
   "source": [
    "vectorizer = TfidfVectorizer(stop_words='english',sublinear_tf=True,min_df=5,norm='l2',ngram_range=(1, 2))"
   ]
  },
  {
   "cell_type": "code",
   "execution_count": 22,
   "metadata": {},
   "outputs": [],
   "source": [
    "x_vect = vectorizer.fit_transform(x)"
   ]
  },
  {
   "cell_type": "code",
   "execution_count": 23,
   "metadata": {},
   "outputs": [
    {
     "data": {
      "text/plain": [
       "(340328, 142103)"
      ]
     },
     "execution_count": 23,
     "metadata": {},
     "output_type": "execute_result"
    }
   ],
   "source": [
    "x_vect.shape"
   ]
  },
  {
   "cell_type": "code",
   "execution_count": 24,
   "metadata": {},
   "outputs": [],
   "source": [
    "x_features = vectorizer.get_feature_names()\n"
   ]
  },
  {
   "cell_type": "code",
   "execution_count": 25,
   "metadata": {},
   "outputs": [],
   "source": [
    "from sklearn.linear_model import LogisticRegression"
   ]
  },
  {
   "cell_type": "code",
   "execution_count": 26,
   "metadata": {},
   "outputs": [],
   "source": [
    "log = LogisticRegression()"
   ]
  },
  {
   "cell_type": "code",
   "execution_count": 27,
   "metadata": {},
   "outputs": [],
   "source": [
    "from sklearn.model_selection import train_test_split"
   ]
  },
  {
   "cell_type": "code",
   "execution_count": 28,
   "metadata": {},
   "outputs": [],
   "source": [
    "x_train,x_test,y_train,y_test = train_test_split(x_vect,y,test_size=0.20,random_state=42)"
   ]
  },
  {
   "cell_type": "code",
   "execution_count": 29,
   "metadata": {},
   "outputs": [
    {
     "name": "stdout",
     "output_type": "stream",
     "text": [
      "(272262, 142103)\n",
      "(272262,)\n",
      "(68066, 142103)\n",
      "(68066,)\n"
     ]
    }
   ],
   "source": [
    "print(x_train.shape)\n",
    "print(y_train.shape)\n",
    "print(x_test.shape)\n",
    "print(y_test.shape)"
   ]
  },
  {
   "cell_type": "code",
   "execution_count": 133,
   "metadata": {},
   "outputs": [
    {
     "name": "stderr",
     "output_type": "stream",
     "text": [
      "C:\\ProgramData\\Anaconda3\\lib\\site-packages\\sklearn\\linear_model\\_logistic.py:762: ConvergenceWarning: lbfgs failed to converge (status=1):\n",
      "STOP: TOTAL NO. of ITERATIONS REACHED LIMIT.\n",
      "\n",
      "Increase the number of iterations (max_iter) or scale the data as shown in:\n",
      "    https://scikit-learn.org/stable/modules/preprocessing.html\n",
      "Please also refer to the documentation for alternative solver options:\n",
      "    https://scikit-learn.org/stable/modules/linear_model.html#logistic-regression\n",
      "  n_iter_i = _check_optimize_result(\n"
     ]
    },
    {
     "data": {
      "text/plain": [
       "LogisticRegression()"
      ]
     },
     "execution_count": 133,
     "metadata": {},
     "output_type": "execute_result"
    }
   ],
   "source": [
    "log.fit(x_train,y_train)"
   ]
  },
  {
   "cell_type": "code",
   "execution_count": 134,
   "metadata": {},
   "outputs": [],
   "source": [
    "y_pred = log.predict(x_test)"
   ]
  },
  {
   "cell_type": "code",
   "execution_count": 32,
   "metadata": {},
   "outputs": [],
   "source": [
    "from sklearn.metrics import accuracy_score"
   ]
  },
  {
   "cell_type": "code",
   "execution_count": 136,
   "metadata": {},
   "outputs": [
    {
     "data": {
      "text/plain": [
       "0.9396100116414435"
      ]
     },
     "execution_count": 136,
     "metadata": {},
     "output_type": "execute_result"
    }
   ],
   "source": [
    "accuracy_score(y_test,y_pred)"
   ]
  },
  {
   "cell_type": "code",
   "execution_count": 137,
   "metadata": {},
   "outputs": [],
   "source": [
    "newtest = pd.Series(['Iroz is not working. Unable to mark attendance'])"
   ]
  },
  {
   "cell_type": "code",
   "execution_count": 138,
   "metadata": {},
   "outputs": [
    {
     "data": {
      "text/plain": [
       "0    Iroz is not working. Unable to mark attendance\n",
       "dtype: object"
      ]
     },
     "execution_count": 138,
     "metadata": {},
     "output_type": "execute_result"
    }
   ],
   "source": [
    "newtest"
   ]
  },
  {
   "cell_type": "code",
   "execution_count": 139,
   "metadata": {},
   "outputs": [],
   "source": [
    "new_trans = vectorizer.transform(newtest)"
   ]
  },
  {
   "cell_type": "code",
   "execution_count": 140,
   "metadata": {},
   "outputs": [
    {
     "data": {
      "text/plain": [
       "(1, 24713)"
      ]
     },
     "execution_count": 140,
     "metadata": {},
     "output_type": "execute_result"
    }
   ],
   "source": [
    "new_trans.shape"
   ]
  },
  {
   "cell_type": "code",
   "execution_count": 141,
   "metadata": {},
   "outputs": [
    {
     "data": {
      "text/plain": [
       "array(['ASG Support'], dtype=object)"
      ]
     },
     "execution_count": 141,
     "metadata": {},
     "output_type": "execute_result"
    }
   ],
   "source": [
    "log.predict(new_trans)"
   ]
  },
  {
   "cell_type": "code",
   "execution_count": null,
   "metadata": {},
   "outputs": [],
   "source": []
  },
  {
   "cell_type": "code",
   "execution_count": 142,
   "metadata": {},
   "outputs": [],
   "source": [
    "newtest = pd.Series(['Prohance dashboards are not getting updated'])"
   ]
  },
  {
   "cell_type": "code",
   "execution_count": 143,
   "metadata": {},
   "outputs": [
    {
     "data": {
      "text/plain": [
       "0    Prohance dashboards are not getting updated\n",
       "dtype: object"
      ]
     },
     "execution_count": 143,
     "metadata": {},
     "output_type": "execute_result"
    }
   ],
   "source": [
    "newtest"
   ]
  },
  {
   "cell_type": "code",
   "execution_count": 144,
   "metadata": {},
   "outputs": [],
   "source": [
    "new_trans = vectorizer.transform(newtest)"
   ]
  },
  {
   "cell_type": "code",
   "execution_count": 145,
   "metadata": {},
   "outputs": [
    {
     "data": {
      "text/plain": [
       "(1, 24713)"
      ]
     },
     "execution_count": 145,
     "metadata": {},
     "output_type": "execute_result"
    }
   ],
   "source": [
    "new_trans.shape"
   ]
  },
  {
   "cell_type": "code",
   "execution_count": 146,
   "metadata": {},
   "outputs": [
    {
     "data": {
      "text/plain": [
       "array(['GSI BAM ProHance'], dtype=object)"
      ]
     },
     "execution_count": 146,
     "metadata": {},
     "output_type": "execute_result"
    }
   ],
   "source": [
    "log.predict(new_trans)"
   ]
  },
  {
   "cell_type": "markdown",
   "metadata": {},
   "source": [
    "## Assignment Group"
   ]
  },
  {
   "cell_type": "code",
   "execution_count": 26,
   "metadata": {},
   "outputs": [],
   "source": [
    "def prediction(s,model=log):\n",
    "    new_test = vectorizer.transform(s)\n",
    "    predicted = log.predict(new_test)\n",
    "    return predicted"
   ]
  },
  {
   "cell_type": "code",
   "execution_count": 148,
   "metadata": {},
   "outputs": [],
   "source": [
    "newtest = pd.Series(['Not able to receive the calls. call getting disconnected often'])"
   ]
  },
  {
   "cell_type": "code",
   "execution_count": 149,
   "metadata": {},
   "outputs": [
    {
     "data": {
      "text/plain": [
       "array(['Global Telecom Team'], dtype=object)"
      ]
     },
     "execution_count": 149,
     "metadata": {},
     "output_type": "execute_result"
    }
   ],
   "source": [
    "prediction(newtest)"
   ]
  },
  {
   "cell_type": "code",
   "execution_count": 35,
   "metadata": {},
   "outputs": [],
   "source": [
    "from sklearn.metrics import classification_report,accuracy_score"
   ]
  },
  {
   "cell_type": "code",
   "execution_count": 151,
   "metadata": {
    "scrolled": true
   },
   "outputs": [
    {
     "name": "stdout",
     "output_type": "stream",
     "text": [
      "                           precision    recall  f1-score   support\n",
      "\n",
      "              ASG Support       0.99      0.98      0.98       573\n",
      "   Application Management       0.00      0.00      0.00         2\n",
      "           Citrix Support       0.00      0.00      0.00         1\n",
      "       Cloud Support Team       0.00      0.00      0.00         5\n",
      "    Data Center Mgmt Team       0.00      0.00      0.00         3\n",
      "       Fusion HCM Support       0.00      0.00      0.00         2\n",
      "         GSI BAM ProHance       0.90      0.99      0.94       611\n",
      "          GSI SQMS Portal       0.00      0.00      0.00         1\n",
      "      GSI iRoz Attendance       0.00      0.00      0.00         2\n",
      "             GSI iRoz GTS       0.00      0.00      0.00         2\n",
      "          Genesys Support       0.89      0.50      0.64        48\n",
      "    Global Laptop Support       0.83      0.29      0.43        70\n",
      "    Global Recording Team       1.00      0.62      0.77         8\n",
      "      Global Telecom Team       0.87      0.93      0.90       308\n",
      "          Global VDI Team       0.00      0.00      0.00        17\n",
      "      IEX Functional Team       0.00      0.00      0.00         6\n",
      "            IT Operations       1.00      1.00      1.00      3822\n",
      "         IT Security Team       0.00      0.00      0.00         1\n",
      "      Incident Management       0.83      0.56      0.67        18\n",
      "         Infosec DLP Team       0.00      0.00      0.00         1\n",
      "           Kronos Support       1.00      0.75      0.86        12\n",
      "                LMS Admin       1.00      0.31      0.47        13\n",
      "          Network Level 1       1.00      0.31      0.47        13\n",
      "          Network Level 2       0.00      0.00      0.00         9\n",
      "     PSG GPC AP SmartLeap       0.00      0.00      0.00         4\n",
      "         PSG HCHC SmartAP       0.00      0.00      0.00         1\n",
      "    PSG Smart RPA Support       0.95      0.93      0.94       151\n",
      "                PSG TiTAN       1.00      0.96      0.98        24\n",
      "         PSG UBC Smart AP       0.00      0.00      0.00         2\n",
      "  PeopleSoft Finance Team       1.00      0.53      0.69        17\n",
      "            Peoplesoft HR       0.00      0.00      0.00         5\n",
      "      RIM Genesys Support       0.00      0.00      0.00         3\n",
      "              RIM Support       0.63      0.74      0.68       238\n",
      "              SOC InfoSec       0.00      0.00      0.00         1\n",
      "   Server Management Team       0.99      0.99      0.99       141\n",
      "        Servicenow Admins       0.85      0.91      0.88       139\n",
      "Software Asset Management       0.00      0.00      0.00         1\n",
      "        System Management       0.87      0.33      0.47        40\n",
      " Taleo Super User Support       1.00      0.64      0.78        25\n",
      "                 WAH ITAM       0.00      0.00      0.00         3\n",
      "              WAH Tier II       0.00      0.00      0.00        10\n",
      "             Work At Home       0.75      0.89      0.82       519\n",
      "\n",
      "                 accuracy                           0.94      6872\n",
      "                macro avg       0.44      0.34      0.37      6872\n",
      "             weighted avg       0.93      0.94      0.93      6872\n",
      "\n"
     ]
    },
    {
     "name": "stderr",
     "output_type": "stream",
     "text": [
      "C:\\ProgramData\\Anaconda3\\lib\\site-packages\\sklearn\\metrics\\_classification.py:1221: UndefinedMetricWarning: Precision and F-score are ill-defined and being set to 0.0 in labels with no predicted samples. Use `zero_division` parameter to control this behavior.\n",
      "  _warn_prf(average, modifier, msg_start, len(result))\n"
     ]
    }
   ],
   "source": [
    "print(classification_report(y_test,y_pred))"
   ]
  },
  {
   "cell_type": "markdown",
   "metadata": {},
   "source": [
    "## Using Naive Bayes"
   ]
  },
  {
   "cell_type": "code",
   "execution_count": 30,
   "metadata": {},
   "outputs": [],
   "source": [
    "from sklearn.naive_bayes import MultinomialNB"
   ]
  },
  {
   "cell_type": "code",
   "execution_count": 31,
   "metadata": {},
   "outputs": [],
   "source": [
    "mul = MultinomialNB()"
   ]
  },
  {
   "cell_type": "code",
   "execution_count": 32,
   "metadata": {},
   "outputs": [
    {
     "data": {
      "text/plain": [
       "MultinomialNB()"
      ]
     },
     "execution_count": 32,
     "metadata": {},
     "output_type": "execute_result"
    }
   ],
   "source": [
    "mul.fit(x_train,y_train)"
   ]
  },
  {
   "cell_type": "code",
   "execution_count": 33,
   "metadata": {},
   "outputs": [],
   "source": [
    "y_pred = mul.predict(x_test)"
   ]
  },
  {
   "cell_type": "code",
   "execution_count": 36,
   "metadata": {},
   "outputs": [
    {
     "data": {
      "text/plain": [
       "0.7789645344224723"
      ]
     },
     "execution_count": 36,
     "metadata": {},
     "output_type": "execute_result"
    }
   ],
   "source": [
    "accuracy_score(y_pred,y_test)"
   ]
  },
  {
   "cell_type": "code",
   "execution_count": 37,
   "metadata": {},
   "outputs": [],
   "source": [
    "def predictionnaive(s,model=mul):\n",
    "    new_test = vectorizer.transform(s)\n",
    "    predicted = mul.predict(new_test)\n",
    "    return predicted"
   ]
  },
  {
   "cell_type": "code",
   "execution_count": 60,
   "metadata": {},
   "outputs": [],
   "source": [
    "newtest = pd.Series(['Starting Oracle Taleo application...If this message does not disappear shortly, please confirm that Adobe Flash is properly installed on your workstation.'])"
   ]
  },
  {
   "cell_type": "code",
   "execution_count": 61,
   "metadata": {},
   "outputs": [
    {
     "data": {
      "text/plain": [
       "array(['RIM Support'], dtype='<U37')"
      ]
     },
     "execution_count": 61,
     "metadata": {},
     "output_type": "execute_result"
    }
   ],
   "source": [
    "predictionnaive(newtest)"
   ]
  },
  {
   "cell_type": "code",
   "execution_count": 56,
   "metadata": {},
   "outputs": [],
   "source": [
    "newtest = pd.Series(['Adobe flash not working call back number : 4047180179'])"
   ]
  },
  {
   "cell_type": "code",
   "execution_count": 57,
   "metadata": {},
   "outputs": [
    {
     "data": {
      "text/plain": [
       "array(['RIM Support'], dtype='<U37')"
      ]
     },
     "execution_count": 57,
     "metadata": {},
     "output_type": "execute_result"
    }
   ],
   "source": [
    "predictionnaive(newtest)"
   ]
  },
  {
   "cell_type": "code",
   "execution_count": 39,
   "metadata": {},
   "outputs": [],
   "source": [
    "from sklearn.metrics import classification_report"
   ]
  },
  {
   "cell_type": "code",
   "execution_count": 40,
   "metadata": {},
   "outputs": [
    {
     "name": "stderr",
     "output_type": "stream",
     "text": [
      "C:\\ProgramData\\Anaconda3\\lib\\site-packages\\sklearn\\metrics\\_classification.py:1221: UndefinedMetricWarning: Precision and F-score are ill-defined and being set to 0.0 in labels with no predicted samples. Use `zero_division` parameter to control this behavior.\n",
      "  _warn_prf(average, modifier, msg_start, len(result))\n"
     ]
    },
    {
     "name": "stdout",
     "output_type": "stream",
     "text": [
      "                                       precision    recall  f1-score   support\n",
      "\n",
      "                          ASG Support       0.52      0.96      0.68      6442\n",
      "                Accounts Payable - NA       0.00      0.00      0.00         1\n",
      "               Application Management       0.00      0.00      0.00       162\n",
      "                        Ariba Level 2       0.00      0.00      0.00        28\n",
      "                     Ariba PS Support       0.00      0.00      0.00        10\n",
      "                       Citrix Support       0.00      0.00      0.00        11\n",
      "                   Cloud Support Team       0.00      0.00      0.00        48\n",
      "                Data Center Mgmt Team       0.00      0.00      0.00       118\n",
      "                             Database       0.00      0.00      0.00         1\n",
      "                             Dell FAO       0.00      0.00      0.00        88\n",
      "                          Dialers ROC       0.00      0.00      0.00         2\n",
      "                          Dialers Thn       0.00      0.00      0.00         1\n",
      "                   EMM Intune Support       0.00      0.00      0.00        49\n",
      "           EY PeopleSoft Finance Team       0.00      0.00      0.00         3\n",
      "                     EY PeopleSoft HR       0.00      0.00      0.00         1\n",
      "                     Facilities - AIR       0.00      0.00      0.00         2\n",
      "                     Facilities - BAQ       0.00      0.00      0.00         1\n",
      "                     Facilities - CLK       0.00      0.00      0.00         1\n",
      "                     Facilities - CPK       0.00      0.00      0.00         1\n",
      "                     Facilities - DLF       0.00      0.00      0.00         1\n",
      "                     Facilities - HVT       0.00      0.00      0.00         1\n",
      "                     Facilities - JAM       0.00      0.00      0.00         1\n",
      "                     Facilities - MAL       0.00      0.00      0.00         1\n",
      "                     Facilities - OMR       0.00      0.00      0.00         1\n",
      "                     Facilities - PCC       0.00      0.00      0.00         2\n",
      "                     Facilities - ROC       0.00      0.00      0.00         4\n",
      "                     Facilities - SYR       0.00      0.00      0.00         1\n",
      "                     Facilities - TLC       0.00      0.00      0.00         2\n",
      "                     Facilities - VJM       0.00      0.00      0.00         1\n",
      "                   Fusion HCM Support       1.00      0.04      0.07       191\n",
      "GSI ATS - Application Tracking System       0.00      0.00      0.00         2\n",
      "                 GSI Automatedreports       0.00      0.00      0.00        20\n",
      "                     GSI BAM ProHance       0.97      0.20      0.34       595\n",
      "             GSI BI Dashboard Support       0.00      0.00      0.00        18\n",
      "                   GSI BI EPM Support       0.00      0.00      0.00        15\n",
      "                        GSI BISupport       1.00      0.25      0.40       234\n",
      "                           GSI BRM IT       0.00      0.00      0.00         1\n",
      "                              GSI CRM       0.00      0.00      0.00        94\n",
      "       GSI Contract Change Management       0.00      0.00      0.00         1\n",
      "              GSI Contract Governance       0.00      0.00      0.00         2\n",
      "                       GSI Deployment       0.00      0.00      0.00         6\n",
      "                      GSI EWS Support       0.00      0.00      0.00        25\n",
      "                          GSI Empirix       0.00      0.00      0.00        12\n",
      "         GSI Employee Joining Booklet       0.00      0.00      0.00         1\n",
      "               GSI Genesys BI Support       0.00      0.00      0.00        10\n",
      "          GSI Global Appraisal System       0.00      0.00      0.00        12\n",
      "                  GSI Global Track IT       0.00      0.00      0.00         1\n",
      "                           GSI Hiscox       0.00      0.00      0.00        41\n",
      "                         GSI IVR Team       0.00      0.00      0.00         8\n",
      "                 GSI Invoice Approval       0.00      0.00      0.00         1\n",
      "          GSI Invoice Approval System       0.00      0.00      0.00         2\n",
      "                      GSI Iroz Mobile       0.00      0.00      0.00         5\n",
      "                 GSI Jobs Failed APAC       0.95      0.09      0.16      1451\n",
      "                           GSI LOGEMS       0.00      0.00      0.00        30\n",
      "                  GSI Mutual of Omaha       0.00      0.00      0.00         1\n",
      "                    GSI NT Automation       0.00      0.00      0.00         4\n",
      "                   GSI NT Automations       0.00      0.00      0.00        30\n",
      "                      GSI Online Test       0.00      0.00      0.00        13\n",
      "               GSI Pricing Engagement       0.00      0.00      0.00         2\n",
      "                            GSI Prism       0.00      0.00      0.00         6\n",
      "                   GSI RTD-ACD Client       0.00      0.00      0.00         2\n",
      "                      GSI SQMS Portal       0.00      0.00      0.00       123\n",
      "                             GSI SWFM       0.00      0.00      0.00        40\n",
      "              GSI ScoreDMS - Contract       0.00      0.00      0.00         9\n",
      "              GSI Share Point Team up       0.00      0.00      0.00        17\n",
      "               GSI SmartLeapAP Etihad       0.00      0.00      0.00         1\n",
      "                   GSI Spring Support       0.00      0.00      0.00         4\n",
      "               GSI Stack Ranking Tool       0.00      0.00      0.00         2\n",
      "                            GSI Swift       0.00      0.00      0.00         2\n",
      "                   GSI Switch Reports       0.00      0.00      0.00        41\n",
      "                   GSI Table F Portal       0.00      0.00      0.00         4\n",
      "                       GSI Thane DCLM       0.00      0.00      0.00         3\n",
      "               GSI Update Transmitter       0.00      0.00      0.00         1\n",
      "                    GSI Web Designing       0.00      0.00      0.00         1\n",
      "                           GSI eModel       0.00      0.00      0.00        15\n",
      "                            GSI ezCLM       0.00      0.00      0.00        54\n",
      "                           GSI ezChat       0.00      0.00      0.00         1\n",
      "                            GSI iCube       0.00      0.00      0.00        14\n",
      "                  GSI iRoz Attendance       0.00      0.00      0.00       335\n",
      "                   GSI iRoz Choicepay       0.00      0.00      0.00         4\n",
      "                    GSI iRoz Coaching       0.00      0.00      0.00         1\n",
      "               GSI iRoz Decision Tree       0.00      0.00      0.00         4\n",
      "                 GSI iRoz Doc Manager       0.00      0.00      0.00         2\n",
      "                        GSI iRoz GLAS       0.00      0.00      0.00         1\n",
      "                         GSI iRoz GTS       0.00      0.00      0.00        90\n",
      "                     GSI iRoz Masters       0.00      0.00      0.00        44\n",
      "                   GSI iRoz RTS Focus       0.00      0.00      0.00         1\n",
      "          GSI iRoz Schedule Adherence       0.00      0.00      0.00         1\n",
      "                   GSI iRoz Scheduler       0.00      0.00      0.00        14\n",
      "                  GSI iRoz Sharepoint       0.00      0.00      0.00        53\n",
      "                  GSI iRoz Tax Portal       0.00      0.00      0.00         8\n",
      "         GSI iRoz Time and Attendance       0.00      0.00      0.00         1\n",
      "              GSI iRoz Transportation       0.00      0.00      0.00         1\n",
      "                         GSI iRoz WBR       0.00      0.00      0.00         1\n",
      "                      Genesys Support       0.99      0.13      0.23       770\n",
      "                Global Laptop Support       0.98      0.21      0.34      2382\n",
      "                Global Recording Team       0.96      0.48      0.64      1273\n",
      "                  Global Telecom Team       0.81      0.95      0.88      6348\n",
      "                      Global VDI Team       1.00      0.00      0.01       382\n",
      "                     Guardian Support       0.00      0.00      0.00        18\n",
      "                             Hardware       0.00      0.00      0.00         3\n",
      "                  IEX Functional Team       0.74      0.04      0.07       547\n",
      "                          IEX Support       0.00      0.00      0.00        97\n",
      "                   IEX Technical Team       0.00      0.00      0.00        20\n",
      "                        IT Operations       0.99      1.00      1.00     12993\n",
      "                     IT Security Team       1.00      0.82      0.90       438\n",
      "                  Incident Management       0.87      0.79      0.83      1657\n",
      "                       InfoSec - APAC       1.00      0.60      0.75       265\n",
      "                     InfoSec - Global       0.00      0.00      0.00        10\n",
      "                         InfoSec - NA       1.00      0.11      0.20       263\n",
      "                        InfoSec - Thn       0.00      0.00      0.00         3\n",
      "                       Infosec - EMEA       0.00      0.00      0.00         8\n",
      "                     Infosec DLP Team       0.98      0.60      0.75       209\n",
      "                       Kronos Support       1.00      0.10      0.18       389\n",
      "                            LMS Admin       0.71      0.23      0.35       570\n",
      "                          LMS Analyst       0.00      0.00      0.00       234\n",
      "                              Network       0.00      0.00      0.00         1\n",
      "                      Network Level 1       0.94      0.90      0.92      2706\n",
      "                      Network Level 2       0.00      0.00      0.00       452\n",
      "                 PHL Asset Management       0.00      0.00      0.00        10\n",
      "                     PS HR Functional       0.00      0.00      0.00        19\n",
      "                      PSG ATI SmartAP       0.00      0.00      0.00         3\n",
      "                             PSG Agfa       0.00      0.00      0.00        21\n",
      "                             PSG Ally       0.00      0.00      0.00         3\n",
      "                             PSG Argo       0.00      0.00      0.00         7\n",
      "                     PSG Argo SmartAP       0.00      0.00      0.00         4\n",
      "                       PSG CEM Portal       0.00      0.00      0.00         1\n",
      "                        PSG CEMPortal       0.00      0.00      0.00         2\n",
      "                          PSG DHL B2B       0.00      0.00      0.00         2\n",
      "                    PSG DHL E-payment       0.00      0.00      0.00         1\n",
      "                      PSG DHL Ireland       0.00      0.00      0.00         1\n",
      "                   PSG DHL SVC Portal       0.00      0.00      0.00         1\n",
      "                           PSG DHL UK       0.00      0.00      0.00        22\n",
      "                           PSG FomRig       0.00      0.00      0.00         2\n",
      "                    PSG GFSS Smart AP       0.00      0.00      0.00        38\n",
      "                 PSG GPC AP SmartLeap       1.00      0.01      0.01       146\n",
      "                 PSG GPC SmartLeap AP       0.00      0.00      0.00        18\n",
      "                     PSG HCHC SmartAP       0.00      0.00      0.00         9\n",
      "               PSG Hamsphire SWIFT AP       0.00      0.00      0.00        16\n",
      "          PSG Harvard Global SWIFT AP       0.00      0.00      0.00        17\n",
      "                             PSG Hchc       0.00      0.00      0.00         6\n",
      "                           PSG Hiscox       0.00      0.00      0.00        14\n",
      "                       PSG Mumbai TTL       0.00      0.00      0.00       282\n",
      "                        PSG NBAD Bank       0.00      0.00      0.00         1\n",
      "                 PSG Popeyes SWIFT AP       0.00      0.00      0.00        20\n",
      "                 PSG Popeyes SWIFT JE       0.00      0.00      0.00         3\n",
      "                         PSG Robotics       0.00      0.00      0.00         3\n",
      "                      PSG SIG SmartAP       0.00      0.00      0.00         9\n",
      "                         PSG SIPortal       0.00      0.00      0.00         2\n",
      "                PSG Smart RPA Support       1.00      0.01      0.02       174\n",
      "                PSG SmartHelp Support       0.00      0.00      0.00         4\n",
      "               PSG SmartLeapAP Etihad       0.00      0.00      0.00        11\n",
      "                         PSG SmartOps       0.00      0.00      0.00         7\n",
      "                 PSG SmartPRA Support       0.00      0.00      0.00        10\n",
      "                             PSG TEMS       0.00      0.00      0.00        20\n",
      "                          PSG Talisma       0.00      0.00      0.00         2\n",
      "                            PSG TiTAN       0.85      0.95      0.90       877\n",
      "                     PSG Time Tracker       0.00      0.00      0.00         2\n",
      "                     PSG UBC Smart AP       0.00      0.00      0.00         9\n",
      "                       PSG du Telecom       0.00      0.00      0.00         2\n",
      "              PeopleSoft Finance Team       0.93      0.18      0.30       589\n",
      "               PeopleSoft Myworkplace       0.00      0.00      0.00         2\n",
      "                 Peopleportal Support       0.00      0.00      0.00        48\n",
      "                        Peoplesoft HR       0.95      0.09      0.16       481\n",
      "                   Problem management       0.00      0.00      0.00         1\n",
      "                          Proof Point       0.00      0.00      0.00       169\n",
      "               Purchasing Global Tech       0.00      0.00      0.00         1\n",
      "                  RIM Genesys Support       0.00      0.00      0.00         7\n",
      "                          RIM Support       0.37      0.66      0.47      5174\n",
      "                        Recording SME       0.00      0.00      0.00         1\n",
      "                          SOC InfoSec       0.00      0.00      0.00        49\n",
      "                       Sec Mgmt - BAN       0.00      0.00      0.00         1\n",
      "                       Sec Mgmt - BGS       0.00      0.00      0.00         1\n",
      "                       Sec Mgmt - BLR       0.00      0.00      0.00         1\n",
      "                       Sec Mgmt - CAR       0.00      0.00      0.00         1\n",
      "                       Sec Mgmt - CHN       0.00      0.00      0.00       106\n",
      "                       Sec Mgmt - CLK       0.00      0.00      0.00         7\n",
      "                       Sec Mgmt - CRS       0.00      0.00      0.00         4\n",
      "                       Sec Mgmt - DAV       0.00      0.00      0.00        11\n",
      "                       Sec Mgmt - HOU       0.00      0.00      0.00         1\n",
      "                       Sec Mgmt - HYD       0.00      0.00      0.00        40\n",
      "                       Sec Mgmt - JAM       0.00      0.00      0.00        16\n",
      "                       Sec Mgmt - KND       0.00      0.00      0.00         2\n",
      "                       Sec Mgmt - MDV       0.00      0.00      0.00         2\n",
      "                       Sec Mgmt - MUM       0.00      0.00      0.00        86\n",
      "                       Sec Mgmt - OMR       0.00      0.00      0.00         2\n",
      "                       Sec Mgmt - PCC       0.00      0.00      0.00         1\n",
      "                       Sec Mgmt - PUN       0.00      0.00      0.00         2\n",
      "                       Sec Mgmt - SHW       0.00      0.00      0.00         1\n",
      "                       Sec Mgmt - TCP       0.00      0.00      0.00        15\n",
      "                       Sec Mgmt - TLC       0.00      0.00      0.00         7\n",
      "                       Sec Mgmt - TLN       0.00      0.00      0.00         2\n",
      "                      Server APAC SME       0.00      0.00      0.00         2\n",
      "                  Server Database SME       0.00      0.00      0.00         1\n",
      "               Server Management Team       0.97      0.99      0.98      6474\n",
      "         Server Request Approvers PHL       0.00      0.00      0.00         1\n",
      "                         Service Desk       0.00      0.00      0.00         5\n",
      "                    Servicenow Admins       0.00      0.00      0.00        67\n",
      "             SharePoint Admin Support       0.00      0.00      0.00        32\n",
      "                             Software       0.00      0.00      0.00         1\n",
      "            Software Asset Management       0.00      0.00      0.00        11\n",
      "                    System Management       0.56      0.45      0.50      2448\n",
      "             Taleo Super User Support       0.99      0.23      0.38       756\n",
      "           Taleo Technical Escalation       0.00      0.00      0.00        23\n",
      "      Team Development Code Reviewers       0.00      0.00      0.00         1\n",
      "            Tulsa Application Support       0.00      0.00      0.00        26\n",
      "                       UID Automation       0.00      0.00      0.00         1\n",
      "                       US Cell Phones       0.00      0.00      0.00        21\n",
      "                             WAH ITAM       0.00      0.00      0.00       235\n",
      "                          WAH Tier II       0.00      0.00      0.00       263\n",
      "                         Work At Home       0.57      0.89      0.69      6314\n",
      "\n",
      "                             accuracy                           0.72     68066\n",
      "                            macro avg       0.13      0.06      0.07     68066\n",
      "                         weighted avg       0.75      0.72      0.67     68066\n",
      "\n"
     ]
    }
   ],
   "source": [
    "print(classification_report(y_test,y_pred))"
   ]
  },
  {
   "cell_type": "code",
   "execution_count": 84,
   "metadata": {},
   "outputs": [],
   "source": [
    "from sklearn.ensemble import RandomForestClassifier"
   ]
  },
  {
   "cell_type": "code",
   "execution_count": null,
   "metadata": {},
   "outputs": [],
   "source": [
    "classifier = RandomForestClassifier(n_estimators = 50) `\n",
    "classifier.fit(x_train, y_train)"
   ]
  },
  {
   "cell_type": "code",
   "execution_count": 115,
   "metadata": {},
   "outputs": [],
   "source": [
    "y1_pred = classifier.predict(x_test)"
   ]
  },
  {
   "cell_type": "code",
   "execution_count": 116,
   "metadata": {},
   "outputs": [
    {
     "data": {
      "text/plain": [
       "0.9369906868451688"
      ]
     },
     "execution_count": 116,
     "metadata": {},
     "output_type": "execute_result"
    }
   ],
   "source": [
    "accuracy_score(y_test,y1_pred)"
   ]
  },
  {
   "cell_type": "code",
   "execution_count": 117,
   "metadata": {},
   "outputs": [
    {
     "name": "stdout",
     "output_type": "stream",
     "text": [
      "                           precision    recall  f1-score   support\n",
      "\n",
      "              ASG Support       1.00      0.96      0.98       573\n",
      "   Application Management       0.00      0.00      0.00         2\n",
      "           Citrix Support       0.00      0.00      0.00         1\n",
      "       Cloud Support Team       0.00      0.00      0.00         5\n",
      "    Data Center Mgmt Team       0.50      0.67      0.57         3\n",
      "       Fusion HCM Support       0.00      0.00      0.00         2\n",
      "         GSI BAM ProHance       0.79      0.99      0.88       611\n",
      "          GSI SQMS Portal       0.00      0.00      0.00         1\n",
      "      GSI iRoz Attendance       0.00      0.00      0.00         2\n",
      "             GSI iRoz GTS       0.00      0.00      0.00         2\n",
      "          Genesys Support       0.81      0.35      0.49        48\n",
      "    Global Laptop Support       0.80      0.34      0.48        70\n",
      "    Global Recording Team       1.00      0.50      0.67         8\n",
      "      Global Telecom Team       0.92      0.90      0.91       308\n",
      "          Global VDI Team       0.00      0.00      0.00        17\n",
      "      IEX Functional Team       1.00      0.17      0.29         6\n",
      "            IT Operations       1.00      1.00      1.00      3822\n",
      "         IT Security Team       0.00      0.00      0.00         1\n",
      "      Incident Management       0.91      0.56      0.69        18\n",
      "         Infosec DLP Team       1.00      1.00      1.00         1\n",
      "           Kronos Support       1.00      0.75      0.86        12\n",
      "                LMS Admin       1.00      0.38      0.56        13\n",
      "          Network Level 1       0.89      0.62      0.73        13\n",
      "          Network Level 2       0.80      0.44      0.57         9\n",
      "     PSG GPC AP SmartLeap       0.00      0.00      0.00         4\n",
      "         PSG HCHC SmartAP       0.00      0.00      0.00         1\n",
      "    PSG Smart RPA Support       0.96      0.87      0.91       151\n",
      "                PSG TiTAN       1.00      1.00      1.00        24\n",
      "         PSG UBC Smart AP       0.00      0.00      0.00         2\n",
      "  PeopleSoft Finance Team       0.92      0.65      0.76        17\n",
      "            Peoplesoft HR       0.00      0.00      0.00         5\n",
      "      RIM Genesys Support       0.00      0.00      0.00         3\n",
      "              RIM Support       0.69      0.72      0.70       238\n",
      "              SOC InfoSec       0.00      0.00      0.00         1\n",
      "   Server Management Team       1.00      0.99      1.00       141\n",
      "        Servicenow Admins       0.85      0.88      0.86       139\n",
      "Software Asset Management       0.00      0.00      0.00         1\n",
      "        System Management       0.89      0.20      0.33        40\n",
      " Taleo Super User Support       1.00      0.68      0.81        25\n",
      "                 WAH ITAM       0.00      0.00      0.00         3\n",
      "              WAH Tier II       0.00      0.00      0.00        10\n",
      "             Work At Home       0.79      0.92      0.85       519\n",
      "\n",
      "                 accuracy                           0.94      6872\n",
      "                macro avg       0.51      0.39      0.43      6872\n",
      "             weighted avg       0.93      0.94      0.93      6872\n",
      "\n"
     ]
    },
    {
     "name": "stderr",
     "output_type": "stream",
     "text": [
      "C:\\ProgramData\\Anaconda3\\lib\\site-packages\\sklearn\\metrics\\_classification.py:1221: UndefinedMetricWarning: Precision and F-score are ill-defined and being set to 0.0 in labels with no predicted samples. Use `zero_division` parameter to control this behavior.\n",
      "  _warn_prf(average, modifier, msg_start, len(result))\n"
     ]
    }
   ],
   "source": [
    "print(classification_report(y_test,y1_pred))"
   ]
  },
  {
   "cell_type": "code",
   "execution_count": 118,
   "metadata": {},
   "outputs": [],
   "source": [
    "report = classification_report(y_test,y1_pred,output_dict=True)"
   ]
  },
  {
   "cell_type": "code",
   "execution_count": 119,
   "metadata": {},
   "outputs": [],
   "source": [
    "reportdf = pd.DataFrame(report).transpose()"
   ]
  },
  {
   "cell_type": "code",
   "execution_count": 120,
   "metadata": {},
   "outputs": [
    {
     "data": {
      "text/html": [
       "<div>\n",
       "<style scoped>\n",
       "    .dataframe tbody tr th:only-of-type {\n",
       "        vertical-align: middle;\n",
       "    }\n",
       "\n",
       "    .dataframe tbody tr th {\n",
       "        vertical-align: top;\n",
       "    }\n",
       "\n",
       "    .dataframe thead th {\n",
       "        text-align: right;\n",
       "    }\n",
       "</style>\n",
       "<table border=\"1\" class=\"dataframe\">\n",
       "  <thead>\n",
       "    <tr style=\"text-align: right;\">\n",
       "      <th></th>\n",
       "      <th>precision</th>\n",
       "      <th>recall</th>\n",
       "      <th>f1-score</th>\n",
       "      <th>support</th>\n",
       "    </tr>\n",
       "  </thead>\n",
       "  <tbody>\n",
       "    <tr>\n",
       "      <th>ASG Support</th>\n",
       "      <td>1.000000</td>\n",
       "      <td>0.961606</td>\n",
       "      <td>0.980427</td>\n",
       "      <td>573.000000</td>\n",
       "    </tr>\n",
       "    <tr>\n",
       "      <th>Application Management</th>\n",
       "      <td>0.000000</td>\n",
       "      <td>0.000000</td>\n",
       "      <td>0.000000</td>\n",
       "      <td>2.000000</td>\n",
       "    </tr>\n",
       "    <tr>\n",
       "      <th>Citrix Support</th>\n",
       "      <td>0.000000</td>\n",
       "      <td>0.000000</td>\n",
       "      <td>0.000000</td>\n",
       "      <td>1.000000</td>\n",
       "    </tr>\n",
       "    <tr>\n",
       "      <th>Cloud Support Team</th>\n",
       "      <td>0.000000</td>\n",
       "      <td>0.000000</td>\n",
       "      <td>0.000000</td>\n",
       "      <td>5.000000</td>\n",
       "    </tr>\n",
       "    <tr>\n",
       "      <th>Data Center Mgmt Team</th>\n",
       "      <td>0.500000</td>\n",
       "      <td>0.666667</td>\n",
       "      <td>0.571429</td>\n",
       "      <td>3.000000</td>\n",
       "    </tr>\n",
       "    <tr>\n",
       "      <th>Fusion HCM Support</th>\n",
       "      <td>0.000000</td>\n",
       "      <td>0.000000</td>\n",
       "      <td>0.000000</td>\n",
       "      <td>2.000000</td>\n",
       "    </tr>\n",
       "    <tr>\n",
       "      <th>GSI BAM ProHance</th>\n",
       "      <td>0.791885</td>\n",
       "      <td>0.990180</td>\n",
       "      <td>0.880000</td>\n",
       "      <td>611.000000</td>\n",
       "    </tr>\n",
       "    <tr>\n",
       "      <th>GSI SQMS Portal</th>\n",
       "      <td>0.000000</td>\n",
       "      <td>0.000000</td>\n",
       "      <td>0.000000</td>\n",
       "      <td>1.000000</td>\n",
       "    </tr>\n",
       "    <tr>\n",
       "      <th>GSI iRoz Attendance</th>\n",
       "      <td>0.000000</td>\n",
       "      <td>0.000000</td>\n",
       "      <td>0.000000</td>\n",
       "      <td>2.000000</td>\n",
       "    </tr>\n",
       "    <tr>\n",
       "      <th>GSI iRoz GTS</th>\n",
       "      <td>0.000000</td>\n",
       "      <td>0.000000</td>\n",
       "      <td>0.000000</td>\n",
       "      <td>2.000000</td>\n",
       "    </tr>\n",
       "    <tr>\n",
       "      <th>Genesys Support</th>\n",
       "      <td>0.809524</td>\n",
       "      <td>0.354167</td>\n",
       "      <td>0.492754</td>\n",
       "      <td>48.000000</td>\n",
       "    </tr>\n",
       "    <tr>\n",
       "      <th>Global Laptop Support</th>\n",
       "      <td>0.800000</td>\n",
       "      <td>0.342857</td>\n",
       "      <td>0.480000</td>\n",
       "      <td>70.000000</td>\n",
       "    </tr>\n",
       "    <tr>\n",
       "      <th>Global Recording Team</th>\n",
       "      <td>1.000000</td>\n",
       "      <td>0.500000</td>\n",
       "      <td>0.666667</td>\n",
       "      <td>8.000000</td>\n",
       "    </tr>\n",
       "    <tr>\n",
       "      <th>Global Telecom Team</th>\n",
       "      <td>0.923077</td>\n",
       "      <td>0.896104</td>\n",
       "      <td>0.909390</td>\n",
       "      <td>308.000000</td>\n",
       "    </tr>\n",
       "    <tr>\n",
       "      <th>Global VDI Team</th>\n",
       "      <td>0.000000</td>\n",
       "      <td>0.000000</td>\n",
       "      <td>0.000000</td>\n",
       "      <td>17.000000</td>\n",
       "    </tr>\n",
       "    <tr>\n",
       "      <th>IEX Functional Team</th>\n",
       "      <td>1.000000</td>\n",
       "      <td>0.166667</td>\n",
       "      <td>0.285714</td>\n",
       "      <td>6.000000</td>\n",
       "    </tr>\n",
       "    <tr>\n",
       "      <th>IT Operations</th>\n",
       "      <td>1.000000</td>\n",
       "      <td>1.000000</td>\n",
       "      <td>1.000000</td>\n",
       "      <td>3822.000000</td>\n",
       "    </tr>\n",
       "    <tr>\n",
       "      <th>IT Security Team</th>\n",
       "      <td>0.000000</td>\n",
       "      <td>0.000000</td>\n",
       "      <td>0.000000</td>\n",
       "      <td>1.000000</td>\n",
       "    </tr>\n",
       "    <tr>\n",
       "      <th>Incident Management</th>\n",
       "      <td>0.909091</td>\n",
       "      <td>0.555556</td>\n",
       "      <td>0.689655</td>\n",
       "      <td>18.000000</td>\n",
       "    </tr>\n",
       "    <tr>\n",
       "      <th>Infosec DLP Team</th>\n",
       "      <td>1.000000</td>\n",
       "      <td>1.000000</td>\n",
       "      <td>1.000000</td>\n",
       "      <td>1.000000</td>\n",
       "    </tr>\n",
       "    <tr>\n",
       "      <th>Kronos Support</th>\n",
       "      <td>1.000000</td>\n",
       "      <td>0.750000</td>\n",
       "      <td>0.857143</td>\n",
       "      <td>12.000000</td>\n",
       "    </tr>\n",
       "    <tr>\n",
       "      <th>LMS Admin</th>\n",
       "      <td>1.000000</td>\n",
       "      <td>0.384615</td>\n",
       "      <td>0.555556</td>\n",
       "      <td>13.000000</td>\n",
       "    </tr>\n",
       "    <tr>\n",
       "      <th>Network Level 1</th>\n",
       "      <td>0.888889</td>\n",
       "      <td>0.615385</td>\n",
       "      <td>0.727273</td>\n",
       "      <td>13.000000</td>\n",
       "    </tr>\n",
       "    <tr>\n",
       "      <th>Network Level 2</th>\n",
       "      <td>0.800000</td>\n",
       "      <td>0.444444</td>\n",
       "      <td>0.571429</td>\n",
       "      <td>9.000000</td>\n",
       "    </tr>\n",
       "    <tr>\n",
       "      <th>PSG GPC AP SmartLeap</th>\n",
       "      <td>0.000000</td>\n",
       "      <td>0.000000</td>\n",
       "      <td>0.000000</td>\n",
       "      <td>4.000000</td>\n",
       "    </tr>\n",
       "    <tr>\n",
       "      <th>PSG HCHC SmartAP</th>\n",
       "      <td>0.000000</td>\n",
       "      <td>0.000000</td>\n",
       "      <td>0.000000</td>\n",
       "      <td>1.000000</td>\n",
       "    </tr>\n",
       "    <tr>\n",
       "      <th>PSG Smart RPA Support</th>\n",
       "      <td>0.956204</td>\n",
       "      <td>0.867550</td>\n",
       "      <td>0.909722</td>\n",
       "      <td>151.000000</td>\n",
       "    </tr>\n",
       "    <tr>\n",
       "      <th>PSG TiTAN</th>\n",
       "      <td>1.000000</td>\n",
       "      <td>1.000000</td>\n",
       "      <td>1.000000</td>\n",
       "      <td>24.000000</td>\n",
       "    </tr>\n",
       "    <tr>\n",
       "      <th>PSG UBC Smart AP</th>\n",
       "      <td>0.000000</td>\n",
       "      <td>0.000000</td>\n",
       "      <td>0.000000</td>\n",
       "      <td>2.000000</td>\n",
       "    </tr>\n",
       "    <tr>\n",
       "      <th>PeopleSoft Finance Team</th>\n",
       "      <td>0.916667</td>\n",
       "      <td>0.647059</td>\n",
       "      <td>0.758621</td>\n",
       "      <td>17.000000</td>\n",
       "    </tr>\n",
       "    <tr>\n",
       "      <th>Peoplesoft HR</th>\n",
       "      <td>0.000000</td>\n",
       "      <td>0.000000</td>\n",
       "      <td>0.000000</td>\n",
       "      <td>5.000000</td>\n",
       "    </tr>\n",
       "    <tr>\n",
       "      <th>RIM Genesys Support</th>\n",
       "      <td>0.000000</td>\n",
       "      <td>0.000000</td>\n",
       "      <td>0.000000</td>\n",
       "      <td>3.000000</td>\n",
       "    </tr>\n",
       "    <tr>\n",
       "      <th>RIM Support</th>\n",
       "      <td>0.689516</td>\n",
       "      <td>0.718487</td>\n",
       "      <td>0.703704</td>\n",
       "      <td>238.000000</td>\n",
       "    </tr>\n",
       "    <tr>\n",
       "      <th>SOC InfoSec</th>\n",
       "      <td>0.000000</td>\n",
       "      <td>0.000000</td>\n",
       "      <td>0.000000</td>\n",
       "      <td>1.000000</td>\n",
       "    </tr>\n",
       "    <tr>\n",
       "      <th>Server Management Team</th>\n",
       "      <td>1.000000</td>\n",
       "      <td>0.992908</td>\n",
       "      <td>0.996441</td>\n",
       "      <td>141.000000</td>\n",
       "    </tr>\n",
       "    <tr>\n",
       "      <th>Servicenow Admins</th>\n",
       "      <td>0.847222</td>\n",
       "      <td>0.877698</td>\n",
       "      <td>0.862191</td>\n",
       "      <td>139.000000</td>\n",
       "    </tr>\n",
       "    <tr>\n",
       "      <th>Software Asset Management</th>\n",
       "      <td>0.000000</td>\n",
       "      <td>0.000000</td>\n",
       "      <td>0.000000</td>\n",
       "      <td>1.000000</td>\n",
       "    </tr>\n",
       "    <tr>\n",
       "      <th>System Management</th>\n",
       "      <td>0.888889</td>\n",
       "      <td>0.200000</td>\n",
       "      <td>0.326531</td>\n",
       "      <td>40.000000</td>\n",
       "    </tr>\n",
       "    <tr>\n",
       "      <th>Taleo Super User Support</th>\n",
       "      <td>1.000000</td>\n",
       "      <td>0.680000</td>\n",
       "      <td>0.809524</td>\n",
       "      <td>25.000000</td>\n",
       "    </tr>\n",
       "    <tr>\n",
       "      <th>WAH ITAM</th>\n",
       "      <td>0.000000</td>\n",
       "      <td>0.000000</td>\n",
       "      <td>0.000000</td>\n",
       "      <td>3.000000</td>\n",
       "    </tr>\n",
       "    <tr>\n",
       "      <th>WAH Tier II</th>\n",
       "      <td>0.000000</td>\n",
       "      <td>0.000000</td>\n",
       "      <td>0.000000</td>\n",
       "      <td>10.000000</td>\n",
       "    </tr>\n",
       "    <tr>\n",
       "      <th>Work At Home</th>\n",
       "      <td>0.788079</td>\n",
       "      <td>0.917148</td>\n",
       "      <td>0.847729</td>\n",
       "      <td>519.000000</td>\n",
       "    </tr>\n",
       "    <tr>\n",
       "      <th>accuracy</th>\n",
       "      <td>0.936991</td>\n",
       "      <td>0.936991</td>\n",
       "      <td>0.936991</td>\n",
       "      <td>0.936991</td>\n",
       "    </tr>\n",
       "    <tr>\n",
       "      <th>macro avg</th>\n",
       "      <td>0.512120</td>\n",
       "      <td>0.393550</td>\n",
       "      <td>0.425759</td>\n",
       "      <td>6872.000000</td>\n",
       "    </tr>\n",
       "    <tr>\n",
       "      <th>weighted avg</th>\n",
       "      <td>0.932921</td>\n",
       "      <td>0.936991</td>\n",
       "      <td>0.929635</td>\n",
       "      <td>6872.000000</td>\n",
       "    </tr>\n",
       "  </tbody>\n",
       "</table>\n",
       "</div>"
      ],
      "text/plain": [
       "                           precision    recall  f1-score      support\n",
       "ASG Support                 1.000000  0.961606  0.980427   573.000000\n",
       "Application Management      0.000000  0.000000  0.000000     2.000000\n",
       "Citrix Support              0.000000  0.000000  0.000000     1.000000\n",
       "Cloud Support Team          0.000000  0.000000  0.000000     5.000000\n",
       "Data Center Mgmt Team       0.500000  0.666667  0.571429     3.000000\n",
       "Fusion HCM Support          0.000000  0.000000  0.000000     2.000000\n",
       "GSI BAM ProHance            0.791885  0.990180  0.880000   611.000000\n",
       "GSI SQMS Portal             0.000000  0.000000  0.000000     1.000000\n",
       "GSI iRoz Attendance         0.000000  0.000000  0.000000     2.000000\n",
       "GSI iRoz GTS                0.000000  0.000000  0.000000     2.000000\n",
       "Genesys Support             0.809524  0.354167  0.492754    48.000000\n",
       "Global Laptop Support       0.800000  0.342857  0.480000    70.000000\n",
       "Global Recording Team       1.000000  0.500000  0.666667     8.000000\n",
       "Global Telecom Team         0.923077  0.896104  0.909390   308.000000\n",
       "Global VDI Team             0.000000  0.000000  0.000000    17.000000\n",
       "IEX Functional Team         1.000000  0.166667  0.285714     6.000000\n",
       "IT Operations               1.000000  1.000000  1.000000  3822.000000\n",
       "IT Security Team            0.000000  0.000000  0.000000     1.000000\n",
       "Incident Management         0.909091  0.555556  0.689655    18.000000\n",
       "Infosec DLP Team            1.000000  1.000000  1.000000     1.000000\n",
       "Kronos Support              1.000000  0.750000  0.857143    12.000000\n",
       "LMS Admin                   1.000000  0.384615  0.555556    13.000000\n",
       "Network Level 1             0.888889  0.615385  0.727273    13.000000\n",
       "Network Level 2             0.800000  0.444444  0.571429     9.000000\n",
       "PSG GPC AP SmartLeap        0.000000  0.000000  0.000000     4.000000\n",
       "PSG HCHC SmartAP            0.000000  0.000000  0.000000     1.000000\n",
       "PSG Smart RPA Support       0.956204  0.867550  0.909722   151.000000\n",
       "PSG TiTAN                   1.000000  1.000000  1.000000    24.000000\n",
       "PSG UBC Smart AP            0.000000  0.000000  0.000000     2.000000\n",
       "PeopleSoft Finance Team     0.916667  0.647059  0.758621    17.000000\n",
       "Peoplesoft HR               0.000000  0.000000  0.000000     5.000000\n",
       "RIM Genesys Support         0.000000  0.000000  0.000000     3.000000\n",
       "RIM Support                 0.689516  0.718487  0.703704   238.000000\n",
       "SOC InfoSec                 0.000000  0.000000  0.000000     1.000000\n",
       "Server Management Team      1.000000  0.992908  0.996441   141.000000\n",
       "Servicenow Admins           0.847222  0.877698  0.862191   139.000000\n",
       "Software Asset Management   0.000000  0.000000  0.000000     1.000000\n",
       "System Management           0.888889  0.200000  0.326531    40.000000\n",
       "Taleo Super User Support    1.000000  0.680000  0.809524    25.000000\n",
       "WAH ITAM                    0.000000  0.000000  0.000000     3.000000\n",
       "WAH Tier II                 0.000000  0.000000  0.000000    10.000000\n",
       "Work At Home                0.788079  0.917148  0.847729   519.000000\n",
       "accuracy                    0.936991  0.936991  0.936991     0.936991\n",
       "macro avg                   0.512120  0.393550  0.425759  6872.000000\n",
       "weighted avg                0.932921  0.936991  0.929635  6872.000000"
      ]
     },
     "metadata": {},
     "output_type": "display_data"
    }
   ],
   "source": [
    "display(reportdf)"
   ]
  },
  {
   "cell_type": "code",
   "execution_count": 121,
   "metadata": {},
   "outputs": [],
   "source": [
    "reportdf['precision'] = round((reportdf['precision']*100),2)"
   ]
  },
  {
   "cell_type": "code",
   "execution_count": 122,
   "metadata": {},
   "outputs": [
    {
     "data": {
      "text/plain": [
       "ASG Support                  100.00\n",
       "Application Management         0.00\n",
       "Citrix Support                 0.00\n",
       "Cloud Support Team             0.00\n",
       "Data Center Mgmt Team         50.00\n",
       "Fusion HCM Support             0.00\n",
       "GSI BAM ProHance              79.19\n",
       "GSI SQMS Portal                0.00\n",
       "GSI iRoz Attendance            0.00\n",
       "GSI iRoz GTS                   0.00\n",
       "Genesys Support               80.95\n",
       "Global Laptop Support         80.00\n",
       "Global Recording Team        100.00\n",
       "Global Telecom Team           92.31\n",
       "Global VDI Team                0.00\n",
       "IEX Functional Team          100.00\n",
       "IT Operations                100.00\n",
       "IT Security Team               0.00\n",
       "Incident Management           90.91\n",
       "Infosec DLP Team             100.00\n",
       "Kronos Support               100.00\n",
       "LMS Admin                    100.00\n",
       "Network Level 1               88.89\n",
       "Network Level 2               80.00\n",
       "PSG GPC AP SmartLeap           0.00\n",
       "PSG HCHC SmartAP               0.00\n",
       "PSG Smart RPA Support         95.62\n",
       "PSG TiTAN                    100.00\n",
       "PSG UBC Smart AP               0.00\n",
       "PeopleSoft Finance Team       91.67\n",
       "Peoplesoft HR                  0.00\n",
       "RIM Genesys Support            0.00\n",
       "RIM Support                   68.95\n",
       "SOC InfoSec                    0.00\n",
       "Server Management Team       100.00\n",
       "Servicenow Admins             84.72\n",
       "Software Asset Management      0.00\n",
       "System Management             88.89\n",
       "Taleo Super User Support     100.00\n",
       "WAH ITAM                       0.00\n",
       "WAH Tier II                    0.00\n",
       "Work At Home                  78.81\n",
       "accuracy                      93.70\n",
       "macro avg                     51.21\n",
       "weighted avg                  93.29\n",
       "Name: precision, dtype: float64"
      ]
     },
     "execution_count": 122,
     "metadata": {},
     "output_type": "execute_result"
    }
   ],
   "source": [
    "reportdf['precision']"
   ]
  },
  {
   "cell_type": "code",
   "execution_count": 123,
   "metadata": {},
   "outputs": [],
   "source": [
    "def predictionclass(s,model=classifier):\n",
    "    new_test = vectorizer.transform(s)\n",
    "    predicted = classifier.predict(new_test)\n",
    "    return predicted"
   ]
  },
  {
   "cell_type": "code",
   "execution_count": 124,
   "metadata": {},
   "outputs": [],
   "source": [
    "new_test = pd.Series(['not able to receive the calls. Calls getting disconnecting often'])"
   ]
  },
  {
   "cell_type": "code",
   "execution_count": 125,
   "metadata": {},
   "outputs": [],
   "source": [
    "test_result = predictionclass(new_test)"
   ]
  },
  {
   "cell_type": "code",
   "execution_count": 126,
   "metadata": {},
   "outputs": [],
   "source": [
    "test_result = test_result.tolist()"
   ]
  },
  {
   "cell_type": "code",
   "execution_count": 127,
   "metadata": {},
   "outputs": [
    {
     "data": {
      "text/plain": [
       "'Global Telecom Team'"
      ]
     },
     "execution_count": 127,
     "metadata": {},
     "output_type": "execute_result"
    }
   ],
   "source": [
    "test_result[0]"
   ]
  },
  {
   "cell_type": "code",
   "execution_count": 128,
   "metadata": {},
   "outputs": [],
   "source": [
    "pred_acc = reportdf.loc[test_result[0]]['precision']"
   ]
  },
  {
   "cell_type": "code",
   "execution_count": 129,
   "metadata": {},
   "outputs": [
    {
     "name": "stdout",
     "output_type": "stream",
     "text": [
      "predicted good assignment group\n"
     ]
    }
   ],
   "source": [
    "if pred_acc >=80:\n",
    "    print (\"predicted good assignment group\")\n",
    "else:\n",
    "    print(\"Have to reconsider\")"
   ]
  },
  {
   "cell_type": "code",
   "execution_count": null,
   "metadata": {},
   "outputs": [],
   "source": []
  }
 ],
 "metadata": {
  "kernelspec": {
   "display_name": "Python 3",
   "language": "python",
   "name": "python3"
  },
  "language_info": {
   "codemirror_mode": {
    "name": "ipython",
    "version": 3
   },
   "file_extension": ".py",
   "mimetype": "text/x-python",
   "name": "python",
   "nbconvert_exporter": "python",
   "pygments_lexer": "ipython3",
   "version": "3.8.3"
  }
 },
 "nbformat": 4,
 "nbformat_minor": 4
}
